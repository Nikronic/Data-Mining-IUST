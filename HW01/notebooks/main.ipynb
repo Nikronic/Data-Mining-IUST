{
 "cells": [
  {
   "cell_type": "markdown",
   "metadata": {
    "Collapsed": "false",
    "pycharm": {
     "name": "#%% md\n"
    }
   },
   "source": [
    "# Data Mining - HW01 - 98722278\n",
    "\n",
    "Index:\n",
    "1. Let's assume you work as a data mining consultant in a company which workes on search engines. Explain how using\n",
    "techniques such as *Associate Rules, Clustering, Classification and Anomaly Detection* may help you.\n",
    "2. Compute *Cosine distance, Correlation, Euclidean Distance and Jacard Index* for these two pair of vectors:\n",
    "    1. `V1 = [1, 1, 1, 1]`, `V2 = [2, 2, 2, 2]`\n",
    "    2. `V1 = [1, 0, 1, 0]`, `V2 = [0, 1, 0, 1]`\n",
    "3. Consider finding K-nearest neighbors of a dataset. Here is the proposed algorithm:\n",
    "    1. What happens if there is duplicate entries in dataset? (consider the distance of duplicate entries 0)\n",
    "    2. How to solve this issue?\n",
    "\n",
    "![proposed alg](wiki\\3.jpg)\n",
    "\n",
    "4. Compare dimentionality reduction approaches such as *PCA and SVD* versus *Aggregation based* methods.\n",
    "\n",
    "5. What are pros and cons of sampling for reducing number of samples? Is sampling without replacement is a good\n",
    "approach?\n",
    "\n",
    "6. Download [Telco Churn dataset](https://www.kaggle.com/blastchar/telco-customer-churn)\n",
    "    1. Analyze dataset\n",
    "    2. Implement *Apriori* algorithm from scratch. Regarding aforementioned dataset, find proper parameteres. By\n",
    "    increasing and decreasing different parameters such as *confidence* and *support* report the changes.\n",
    "    3. As the output, report finest extract rules\n",
    "\n",
    "\n",
    " 7. In this section, the goal is to train *KNN* and *DecisionTree* on [Fashion-MNIST](https://github.com/zalandoresearch/fashion-mnist)\n",
    "\n",
    "1. DecisionTree\n",
    "    1. Preprocessing\n",
    "    2. Split into Train, test and Validation\n",
    "    3. Train models    \n",
    "    4. Report accuracy, recall and F-score metrics\n",
    "2. KNN\n",
    "    1. Preprocessing\n",
    "    2. Feature Extraction\n",
    "    3. Split into Train, test and Validation\n",
    "    4. Train models    \n",
    "    5. Report accuracy, recall and F-score metrics\n"
   ]
  },
  {
   "cell_type": "code",
   "execution_count": 224,
   "metadata": {
    "Collapsed": "false",
    "collapsed": false,
    "jupyter": {
     "outputs_hidden": false
    },
    "pycharm": {
     "name": "#%%\n"
    }
   },
   "outputs": [],
   "source": [
    "import numpy as np\n",
    "import matplotlib.pyplot as plt\n",
    "import pandas as pd\n",
    "\n",
    "%matplotlib inline"
   ]
  },
  {
   "cell_type": "markdown",
   "metadata": {
    "Collapsed": "false",
    "pycharm": {
     "name": "#%% md\n"
    }
   },
   "source": [
    "## 1 Classification, Clustering, Rules, Anomaly, etc in Search Engines"
   ]
  },
  {
   "cell_type": "markdown",
   "metadata": {
    "Collapsed": "false",
    "pycharm": {
     "name": "#%% md\n"
    }
   },
   "source": [
    "The most important feature of search engines is that they must provide result based on their relevance. But to\n",
    "achieve these ranking for millions of possible outputs, search engines collect data and apply different machine\n",
    "learning methods to achieve some score for each possible result or any combination of them. Let's go throughout the\n",
    "some of methods such as Classification, Clustering, etc to clarify the situation.\n",
    "\n",
    "**Classification** enables the machine to differetiate between different classes of contents. For instace, you looking\n",
    "for a laptop for you needs, so the machine should be able to classify the content on the websites into different\n",
    "categories and show you the results that only contain the classes you looking for. As we said there are billion of\n",
    "websites out there so by just classifying the entire data into few categories (your keywords) the search space will\n",
    "be much smaller to analyze for other steps.\n",
    "\n",
    "Now let's consider the effect of **Association Rules**. Consider previous example which you wanted to buy a laptop.\n",
    "It is a general case and after searching it you might not find wat you were looking for. Search engine needs more\n",
    "keyword to specificly find your interests. So you add a laptop for teaching purposes. So, by adding this keyword,\n",
    "search engines knows some rules that people who bought these type of laptops, also might need microphone and a good\n",
    "webcam too. So if you try to search for mic or camera, you will get mostly results related to match with the\n",
    "requirement of having a lecture.\n",
    "\n",
    "But what is **Anomaly Detection**? In previous example, you are a student and looking for a mid-range devices because\n",
    " you need only a mediocre voice quality plus simple webcam to just communicate better. Mostly you are engaged with\n",
    " slides rather than your face! Anomaly means something that is not usual within results. In our case, most of the\n",
    " population who want laptop, mic and camera might be students or university lectureres, but gamers are here too. They\n",
    "  need much more powerfull mic and cameras. So if you are student, you are not looking for a 2K resolution! Here the\n",
    "  population wit less quantity is anomaly and need to be considered with different rules. Another example for this\n",
    "  can be the typo in another languages. For instance, in middle eastern countries, most of the people forget to\n",
    "  switch language to english and write their keywords in Arabic script. In this case a undefined word is being used\n",
    "  enormously only for few IP ranges. So it triggers and alert and make the search engine to learn that anomalous\n",
    "  behavior and convert it to a feature!\n",
    "\n",
    "  **Clustering** is similar to classification but with this difference that the distance metric is the core of\n",
    "  clustering which enables us to rank different results based on their distances to different center of clusters.\n",
    "  Clusters provide topic-based results which also can be incorporated within an another cluster where enables\n",
    "  hierarchical understanding of different topics and catergories. Clustering can be used for group of people in a\n",
    "  particular location, for instance, people in middle east search for different clothes in summer than people in\n",
    "  Russia. Or another case would be you looking for a specific keyword but it is rare or you don't enjoy the result,\n",
    "  then search engine use clusters and replace the word you used by a more related word using underlying meaning of\n",
    "  the keywords based on the clusters they are near to.\n",
    "\n",
    "  PPS:\n",
    "  1. Note that all of the previously mentioned approaches can be combined and even can be embedded within each\n",
    "  other to\n",
    "  provide more robust algorithms.\n",
    "  2. Also, I have mostly used \"word\" and \"keyword\" as the input. Same definitions can be used for all type of inputs\n",
    "  such as music or images."
   ]
  },
  {
   "cell_type": "markdown",
   "metadata": {
    "Collapsed": "false",
    "pycharm": {
     "name": "#%% md\n"
    }
   },
   "source": [
    "## 2 *Cosine distance, Correlation, Euclidean Distance and Jacard Index* for\n",
    "1. `V1 = [1, 1, 1, 1]`, `V2 = [2, 2, 2, 2]`\n",
    "2. `V1 = [1, 0, 1, 0]`, `V2 = [0, 1, 0, 1]`"
   ]
  },
  {
   "cell_type": "code",
   "execution_count": 3,
   "metadata": {
    "Collapsed": "false",
    "collapsed": false,
    "jupyter": {
     "outputs_hidden": false
    },
    "pycharm": {
     "name": "#%%\n"
    }
   },
   "outputs": [],
   "source": [
    "def cosine_distance(v1, v2):\n",
    "    \"\"\"\n",
    "    Computes the cosine distance between two ND vectors\n",
    "    s = V1.V2 / (|A|.|B|)\n",
    "\n",
    "    :param v1: First vector\n",
    "    :param v2: Second Vector\n",
    "    :return: A float number\n",
    "    \"\"\"\n",
    "    v1 = np.array(v1)\n",
    "    v2 = np.array(v2)\n",
    "\n",
    "    dot_product = np.sum([v1_ * v2_ for v1_, v2_ in zip(v1, v2)])\n",
    "    return dot_product / (np.sqrt(np.sum(v1 ** 2)) * np.sqrt(np.sum(v2 ** 2)))"
   ]
  },
  {
   "cell_type": "code",
   "execution_count": 4,
   "metadata": {
    "Collapsed": "false",
    "collapsed": false,
    "jupyter": {
     "outputs_hidden": false
    },
    "pycharm": {
     "name": "#%%\n"
    }
   },
   "outputs": [],
   "source": [
    "def correlation(v1, v2):\n",
    "    \"\"\"\n",
    "    Computes the correlation between two ND vectors\n",
    "    s = ((v1- v1_mean).(v2-v2_mean)) / sqrt((v1- v1_mean)**2.(v2-v2_mean)**2)\n",
    "\n",
    "    :param v1: First vector\n",
    "    :param v2: Second Vector\n",
    "    :return: A float number\n",
    "    \"\"\"\n",
    "    v1 = np.array(v1)\n",
    "    v2 = np.array(v2)\n",
    "\n",
    "    v1_norm = v1 - np.mean(v1)\n",
    "    v2_norm = v2 - np.mean(v2)\n",
    "\n",
    "    cov = np.sum([v1_ * v2_ for v1_, v2_ in zip(v1_norm, v2_norm)])\n",
    "    denom = np.sqrt(np.sum(v1_norm**2) * np.sum(v2_norm**2))\n",
    "    return  cov / denom"
   ]
  },
  {
   "cell_type": "code",
   "execution_count": 5,
   "metadata": {
    "Collapsed": "false",
    "collapsed": false,
    "jupyter": {
     "outputs_hidden": false
    },
    "pycharm": {
     "name": "#%%\n"
    }
   },
   "outputs": [],
   "source": [
    "def euclidean_distance(v1, v2):\n",
    "\n",
    "    \"\"\"\n",
    "    Computes the correlation between two ND vectors\n",
    "    s = sum((v1-v2)**2)\n",
    "\n",
    "    :param v1: First vector\n",
    "    :param v2: Second Vector\n",
    "    :return: A float number\n",
    "    \"\"\"\n",
    "    v1 = np.array(v1)\n",
    "    v2 = np.array(v2)\n",
    "\n",
    "    return np.sqrt(np.sum([(v1_ - v2_)**2 for v1_, v2_ in zip(v1, v2)]))"
   ]
  },
  {
   "cell_type": "code",
   "execution_count": 6,
   "metadata": {
    "Collapsed": "false",
    "collapsed": false,
    "jupyter": {
     "outputs_hidden": false
    },
    "pycharm": {
     "name": "#%%\n"
    }
   },
   "outputs": [],
   "source": [
    "def jaccard_index(v1, v2):\n",
    "    \"\"\"\n",
    "    Computes the Jaccard index between two ND vectors\n",
    "    s = intersection(v1, v2) / union(v1, v2)\n",
    "\n",
    "    :param v1: First vector\n",
    "    :param v2: Second Vector\n",
    "    :return: A float number\n",
    "    \"\"\"\n",
    "    m11 = np.sum(v1 & v2)\n",
    "    m01 = np.sum(~v1 & v2)\n",
    "    m10 = np.sum(v1 & ~v2)\n",
    "    return m11 / (m11 + m01 + m10)"
   ]
  },
  {
   "cell_type": "code",
   "execution_count": 7,
   "metadata": {
    "Collapsed": "false",
    "collapsed": false,
    "jupyter": {
     "outputs_hidden": false
    },
    "pycharm": {
     "name": "#%%\n"
    }
   },
   "outputs": [
    {
     "name": "stdout",
     "output_type": "stream",
     "text": [
      "Cosine=1.0, Correlation=nan, Eculidean=2.0\n"
     ]
    },
    {
     "name": "stderr",
     "output_type": "stream",
     "text": [
      "c:\\users\\nikan\\appdata\\local\\programs\\python\\python36\\lib\\site-packages\\ipykernel_launcher.py:18: RuntimeWarning: invalid value encountered in double_scalars\n"
     ]
    }
   ],
   "source": [
    "v1 = np.array([1, 1, 1, 1])\n",
    "v2 = np.array([2, 2, 2, 2])\n",
    "print('Cosine={}, Correlation={}, Eculidean={}'.format(cosine_distance(v1, v2), correlation(v1, v2), euclidean_distance(v1, v2)))"
   ]
  },
  {
   "cell_type": "code",
   "execution_count": 9,
   "metadata": {
    "Collapsed": "false",
    "collapsed": false,
    "jupyter": {
     "outputs_hidden": false
    },
    "pycharm": {
     "name": "#%%\n"
    }
   },
   "outputs": [
    {
     "name": "stdout",
     "output_type": "stream",
     "text": [
      "Cosine=0.0, Correlation=-1.0, Eculidean=2.0, Jaccard=0.0\n"
     ]
    }
   ],
   "source": [
    "v1 = np.array([1, 0, 1, 0])\n",
    "v2 = np.array([0, 1, 0, 1])\n",
    "\n",
    "print('Cosine={}, Correlation={}, Eculidean={}, Jaccard={}'.format(cosine_distance(v1, v2), correlation(v1, v2),\n",
    "                                                                   euclidean_distance(v1, v2), jaccard_index(v1, v2)))\n"
   ]
  },
  {
   "cell_type": "markdown",
   "metadata": {
    "Collapsed": "false",
    "pycharm": {
     "name": "#%% md\n"
    }
   },
   "source": [
    "## 3 K-Nearest Neighbors:\n",
    "1. What happens if there is duplicate entries in dataset? (consider the distance of duplicate entries 0)\n",
    "2. How to solve this issue?\n",
    "\n",
    "![proposed alg](wiki\\3.jpg)"
   ]
  },
  {
   "cell_type": "markdown",
   "metadata": {
    "Collapsed": "false",
    "pycharm": {
     "name": "#%% md\n"
    }
   },
   "source": [
    "### 3.A Duplicate entries\n",
    "If we have duplicate entries which means zero distance in our distance transformed matrix of data, then for each\n",
    "entry `i` if we have for instance `j` duplicates, then `i`'s top `j`s anwer would be only duplicate information so in\n",
    " KNN algorithm `j`th items out of `k` will be duplicate and there is zero learning.\n"
   ]
  },
  {
   "cell_type": "markdown",
   "metadata": {
    "Collapsed": "false",
    "pycharm": {
     "name": "#%% md\n"
    }
   },
   "source": [
    "### 3.B Solving duplicate entries\n",
    "To solve the aforementioned issue, we can incorporate different approaches.\n",
    "Depending on distance metric, if we can ensure that two same object have zero distance then\n",
    "1. After constructing NxN\n",
    "matrix of N entries of our dataset, we can simply remove all objects with index `j` with zero distance for every row\n",
    "`i`. This is slow but robust appraoch as we ensure all data is cleansed.\n",
    "2. This approach works as post processesing and is faster than previous one. In this method when we want to return\n",
    "the top `K` results of for a specific input, we do not return `K` objects as there may be duplicate objects. We first\n",
    " find these objects by couting zero distance values, let's say `M` then returning `K+M` top results omitting index of\n",
    "  items included by `M`.\n"
   ]
  },
  {
   "cell_type": "markdown",
   "metadata": {
    "Collapsed": "false",
    "pycharm": {
     "name": "#%% md\n"
    }
   },
   "source": [
    "## 4 Comparison of *PCA and SVD* vs. *Aggregation based* dimentionality reduction methods."
   ]
  },
  {
   "cell_type": "markdown",
   "metadata": {
    "Collapsed": "false",
    "pycharm": {
     "name": "#%% md\n"
    }
   },
   "source": [
    "Methods such as PCA are statistical approaches where they use informations such as variance to extract most useful\n",
    "attributes of the given dataset. In case of PCA, in simple terms, it first looks for the dimension with most of\n",
    "variation in original data and creates a covariance matrix of these variations. Then a transformation is applied to\n",
    "the original dimensions to achieve almost same representation but with much less data. So, the goal of PCA or SVD is\n",
    "preserve the original varations of data meanwhile reducing number of attributes as much as possible.\n",
    "\n",
    "In aggregation methods, the goal is the reduce variation to have more consistent and general (stable?) interpretation\n",
    " of the original data to extract more generalized rules. For instance, combining cities into regions which will tend\n",
    " to coarse info but more consistent inter or intra region wise.\n",
    "\n",
    " Another point that should be mentioned is that PCA or SVD has defined form of statistical measurements meanwhile\n",
    " aggregation methods are some heuristics that may not be applicable task to task or need to be defined for different\n",
    " set of data/tasks/algorithms."
   ]
  },
  {
   "cell_type": "markdown",
   "metadata": {
    "Collapsed": "false",
    "pycharm": {
     "name": "#%% md\n"
    }
   },
   "source": [
    "## 5 Pros and cons of sampling? Sampling without replacement?"
   ]
  },
  {
   "cell_type": "markdown",
   "metadata": {
    "Collapsed": "false",
    "pycharm": {
     "name": "#%% md\n"
    }
   },
   "source": [
    "For many tasks the pure obtained data are too big and time consuming to be processed. So, to reduce the costs of\n",
    "experiment and required time we prefer to sample a small subset of original data.\n",
    "\n",
    "Sampling enables us to have almost all available information in original data with much fewer number of objects. This\n",
    " leads to huge speed up and much less expenses. But the problem is how we are going to choose a sample that could be\n",
    " representive of our entire data. Sampling means dopping most of data which leads to loss of information where maybe\n",
    " drasticly disastrous if dropped samples contain rare but desired information (think the case of anomaly detection).\n",
    "\n",
    " Simply put, a trade of between speed and quality of data is the real challenge.\n",
    "\n",
    "Sampling w/ replacement vs wo/ replacement:\n",
    "\n",
    "First of all, sampling with replacement means each time we try to sample an object, we give equal probability same as\n",
    " the intial probability of all objects but in case of without replacement, after an object got selected, we remove it\n",
    "  from the pool or make probability of it getting selected equal to zero.\n",
    "\n",
    "  What happens in the first case is that the sampled population has covariance of zero which means samples are in the\n",
    "   vicinity of their expected value. But in the case of without replacement, a data with standard deviation of sigma\n",
    "   will have a non-zero covaraince due to biased more to the last items. But if we sample infinitely from a\n",
    "   population without replacement, we will have covariance of zero because of the law of large numbers (Bernouli LLNs).\n",
    "\n",
    "   What we are looking for is a sampling with lower variance from the original dataset. Sampling with replacement\n",
    "   achieve same expectation of original dataset meanwhile sampling without replacement may exactly sample the\n",
    "   original dataset in the way that leads to same mean and zero variance for the corresponding distibution. So in\n",
    "   real world, we looking for learning new things so sampling with replacement is not good approach in machine\n",
    "   learning tasks as it may lead to biased learning or failing completely in imbalanced learning challenges."
   ]
  },
  {
   "cell_type": "markdown",
   "metadata": {
    "Collapsed": "false",
    "pycharm": {
     "name": "#%% md\n"
    }
   },
   "source": [
    "## 6 [Telco Churn dataset](https://www.kaggle.com/blastchar/telco-customer-churn) Apriori\n",
    "1. Analyze dataset\n",
    "2. Implement *Apriori*\n",
    "3. Find proper parameteres\n",
    "4. As the output, report finest extracted rules"
   ]
  },
  {
   "cell_type": "markdown",
   "metadata": {
    "Collapsed": "false",
    "pycharm": {
     "name": "#%% md\n"
    }
   },
   "source": [
    "### 6.A Analyze dataset"
   ]
  },
  {
   "cell_type": "code",
   "execution_count": 195,
   "metadata": {
    "Collapsed": "false",
    "collapsed": false,
    "jupyter": {
     "outputs_hidden": false
    },
    "pycharm": {
     "name": "#%%\n"
    }
   },
   "outputs": [
    {
     "name": "stdout",
     "output_type": "stream",
     "text": [
      "<class 'pandas.core.frame.DataFrame'>\n",
      "RangeIndex: 7043 entries, 0 to 7042\n",
      "Data columns (total 21 columns):\n",
      " #   Column            Non-Null Count  Dtype  \n",
      "---  ------            --------------  -----  \n",
      " 0   customerID        7043 non-null   object \n",
      " 1   gender            7043 non-null   object \n",
      " 2   SeniorCitizen     7043 non-null   int64  \n",
      " 3   Partner           7043 non-null   object \n",
      " 4   Dependents        7043 non-null   object \n",
      " 5   tenure            7043 non-null   int64  \n",
      " 6   PhoneService      7043 non-null   object \n",
      " 7   MultipleLines     7043 non-null   object \n",
      " 8   InternetService   7043 non-null   object \n",
      " 9   OnlineSecurity    7043 non-null   object \n",
      " 10  OnlineBackup      7043 non-null   object \n",
      " 11  DeviceProtection  7043 non-null   object \n",
      " 12  TechSupport       7043 non-null   object \n",
      " 13  StreamingTV       7043 non-null   object \n",
      " 14  StreamingMovies   7043 non-null   object \n",
      " 15  Contract          7043 non-null   object \n",
      " 16  PaperlessBilling  7043 non-null   object \n",
      " 17  PaymentMethod     7043 non-null   object \n",
      " 18  MonthlyCharges    7043 non-null   float64\n",
      " 19  TotalCharges      7043 non-null   object \n",
      " 20  Churn             7043 non-null   object \n",
      "dtypes: float64(1), int64(2), object(18)\n",
      "memory usage: 1.1+ MB\n",
      "None\n"
     ]
    },
    {
     "data": {
      "text/html": [
       "<div>\n",
       "<style scoped>\n",
       "    .dataframe tbody tr th:only-of-type {\n",
       "        vertical-align: middle;\n",
       "    }\n",
       "\n",
       "    .dataframe tbody tr th {\n",
       "        vertical-align: top;\n",
       "    }\n",
       "\n",
       "    .dataframe thead th {\n",
       "        text-align: right;\n",
       "    }\n",
       "</style>\n",
       "<table border=\"1\" class=\"dataframe\">\n",
       "  <thead>\n",
       "    <tr style=\"text-align: right;\">\n",
       "      <th></th>\n",
       "      <th>customerID</th>\n",
       "      <th>gender</th>\n",
       "      <th>SeniorCitizen</th>\n",
       "      <th>Partner</th>\n",
       "      <th>Dependents</th>\n",
       "      <th>tenure</th>\n",
       "      <th>PhoneService</th>\n",
       "      <th>MultipleLines</th>\n",
       "      <th>InternetService</th>\n",
       "      <th>OnlineSecurity</th>\n",
       "      <th>...</th>\n",
       "      <th>DeviceProtection</th>\n",
       "      <th>TechSupport</th>\n",
       "      <th>StreamingTV</th>\n",
       "      <th>StreamingMovies</th>\n",
       "      <th>Contract</th>\n",
       "      <th>PaperlessBilling</th>\n",
       "      <th>PaymentMethod</th>\n",
       "      <th>MonthlyCharges</th>\n",
       "      <th>TotalCharges</th>\n",
       "      <th>Churn</th>\n",
       "    </tr>\n",
       "  </thead>\n",
       "  <tbody>\n",
       "    <tr>\n",
       "      <th>0</th>\n",
       "      <td>7590-VHVEG</td>\n",
       "      <td>Female</td>\n",
       "      <td>0</td>\n",
       "      <td>Yes</td>\n",
       "      <td>No</td>\n",
       "      <td>1</td>\n",
       "      <td>No</td>\n",
       "      <td>No phone service</td>\n",
       "      <td>DSL</td>\n",
       "      <td>No</td>\n",
       "      <td>...</td>\n",
       "      <td>No</td>\n",
       "      <td>No</td>\n",
       "      <td>No</td>\n",
       "      <td>No</td>\n",
       "      <td>Month-to-month</td>\n",
       "      <td>Yes</td>\n",
       "      <td>Electronic check</td>\n",
       "      <td>29.85</td>\n",
       "      <td>29.85</td>\n",
       "      <td>No</td>\n",
       "    </tr>\n",
       "    <tr>\n",
       "      <th>1</th>\n",
       "      <td>5575-GNVDE</td>\n",
       "      <td>Male</td>\n",
       "      <td>0</td>\n",
       "      <td>No</td>\n",
       "      <td>No</td>\n",
       "      <td>34</td>\n",
       "      <td>Yes</td>\n",
       "      <td>No</td>\n",
       "      <td>DSL</td>\n",
       "      <td>Yes</td>\n",
       "      <td>...</td>\n",
       "      <td>Yes</td>\n",
       "      <td>No</td>\n",
       "      <td>No</td>\n",
       "      <td>No</td>\n",
       "      <td>One year</td>\n",
       "      <td>No</td>\n",
       "      <td>Mailed check</td>\n",
       "      <td>56.95</td>\n",
       "      <td>1889.5</td>\n",
       "      <td>No</td>\n",
       "    </tr>\n",
       "    <tr>\n",
       "      <th>2</th>\n",
       "      <td>3668-QPYBK</td>\n",
       "      <td>Male</td>\n",
       "      <td>0</td>\n",
       "      <td>No</td>\n",
       "      <td>No</td>\n",
       "      <td>2</td>\n",
       "      <td>Yes</td>\n",
       "      <td>No</td>\n",
       "      <td>DSL</td>\n",
       "      <td>Yes</td>\n",
       "      <td>...</td>\n",
       "      <td>No</td>\n",
       "      <td>No</td>\n",
       "      <td>No</td>\n",
       "      <td>No</td>\n",
       "      <td>Month-to-month</td>\n",
       "      <td>Yes</td>\n",
       "      <td>Mailed check</td>\n",
       "      <td>53.85</td>\n",
       "      <td>108.15</td>\n",
       "      <td>Yes</td>\n",
       "    </tr>\n",
       "    <tr>\n",
       "      <th>3</th>\n",
       "      <td>7795-CFOCW</td>\n",
       "      <td>Male</td>\n",
       "      <td>0</td>\n",
       "      <td>No</td>\n",
       "      <td>No</td>\n",
       "      <td>45</td>\n",
       "      <td>No</td>\n",
       "      <td>No phone service</td>\n",
       "      <td>DSL</td>\n",
       "      <td>Yes</td>\n",
       "      <td>...</td>\n",
       "      <td>Yes</td>\n",
       "      <td>Yes</td>\n",
       "      <td>No</td>\n",
       "      <td>No</td>\n",
       "      <td>One year</td>\n",
       "      <td>No</td>\n",
       "      <td>Bank transfer (automatic)</td>\n",
       "      <td>42.30</td>\n",
       "      <td>1840.75</td>\n",
       "      <td>No</td>\n",
       "    </tr>\n",
       "    <tr>\n",
       "      <th>4</th>\n",
       "      <td>9237-HQITU</td>\n",
       "      <td>Female</td>\n",
       "      <td>0</td>\n",
       "      <td>No</td>\n",
       "      <td>No</td>\n",
       "      <td>2</td>\n",
       "      <td>Yes</td>\n",
       "      <td>No</td>\n",
       "      <td>Fiber optic</td>\n",
       "      <td>No</td>\n",
       "      <td>...</td>\n",
       "      <td>No</td>\n",
       "      <td>No</td>\n",
       "      <td>No</td>\n",
       "      <td>No</td>\n",
       "      <td>Month-to-month</td>\n",
       "      <td>Yes</td>\n",
       "      <td>Electronic check</td>\n",
       "      <td>70.70</td>\n",
       "      <td>151.65</td>\n",
       "      <td>Yes</td>\n",
       "    </tr>\n",
       "  </tbody>\n",
       "</table>\n",
       "<p>5 rows × 21 columns</p>\n",
       "</div>"
      ],
      "text/plain": [
       "   customerID  gender  SeniorCitizen Partner Dependents  tenure PhoneService  \\\n",
       "0  7590-VHVEG  Female              0     Yes         No       1           No   \n",
       "1  5575-GNVDE    Male              0      No         No      34          Yes   \n",
       "2  3668-QPYBK    Male              0      No         No       2          Yes   \n",
       "3  7795-CFOCW    Male              0      No         No      45           No   \n",
       "4  9237-HQITU  Female              0      No         No       2          Yes   \n",
       "\n",
       "      MultipleLines InternetService OnlineSecurity  ... DeviceProtection  \\\n",
       "0  No phone service             DSL             No  ...               No   \n",
       "1                No             DSL            Yes  ...              Yes   \n",
       "2                No             DSL            Yes  ...               No   \n",
       "3  No phone service             DSL            Yes  ...              Yes   \n",
       "4                No     Fiber optic             No  ...               No   \n",
       "\n",
       "  TechSupport StreamingTV StreamingMovies        Contract PaperlessBilling  \\\n",
       "0          No          No              No  Month-to-month              Yes   \n",
       "1          No          No              No        One year               No   \n",
       "2          No          No              No  Month-to-month              Yes   \n",
       "3         Yes          No              No        One year               No   \n",
       "4          No          No              No  Month-to-month              Yes   \n",
       "\n",
       "               PaymentMethod MonthlyCharges  TotalCharges Churn  \n",
       "0           Electronic check          29.85         29.85    No  \n",
       "1               Mailed check          56.95        1889.5    No  \n",
       "2               Mailed check          53.85        108.15   Yes  \n",
       "3  Bank transfer (automatic)          42.30       1840.75    No  \n",
       "4           Electronic check          70.70        151.65   Yes  \n",
       "\n",
       "[5 rows x 21 columns]"
      ]
     },
     "execution_count": 195,
     "metadata": {},
     "output_type": "execute_result"
    }
   ],
   "source": [
    "df = pd.read_csv(\"..\\data\\TelcoChurn.csv\")\n",
    "print(df.info())\n",
    "df.head(5)"
   ]
  },
  {
   "cell_type": "code",
   "execution_count": 196,
   "metadata": {
    "Collapsed": "false",
    "collapsed": false,
    "jupyter": {
     "outputs_hidden": false
    },
    "pycharm": {
     "name": "#%%\n"
    }
   },
   "outputs": [
    {
     "data": {
      "text/html": [
       "<div>\n",
       "<style scoped>\n",
       "    .dataframe tbody tr th:only-of-type {\n",
       "        vertical-align: middle;\n",
       "    }\n",
       "\n",
       "    .dataframe tbody tr th {\n",
       "        vertical-align: top;\n",
       "    }\n",
       "\n",
       "    .dataframe thead th {\n",
       "        text-align: right;\n",
       "    }\n",
       "</style>\n",
       "<table border=\"1\" class=\"dataframe\">\n",
       "  <thead>\n",
       "    <tr style=\"text-align: right;\">\n",
       "      <th></th>\n",
       "      <th>gender</th>\n",
       "      <th>SeniorCitizen</th>\n",
       "      <th>Partner</th>\n",
       "      <th>Dependents</th>\n",
       "      <th>tenure</th>\n",
       "      <th>PhoneService</th>\n",
       "      <th>MultipleLines</th>\n",
       "      <th>InternetService</th>\n",
       "      <th>OnlineSecurity</th>\n",
       "      <th>OnlineBackup</th>\n",
       "      <th>DeviceProtection</th>\n",
       "      <th>TechSupport</th>\n",
       "      <th>StreamingTV</th>\n",
       "      <th>StreamingMovies</th>\n",
       "      <th>Contract</th>\n",
       "      <th>PaperlessBilling</th>\n",
       "      <th>PaymentMethod</th>\n",
       "      <th>MonthlyCharges</th>\n",
       "      <th>TotalCharges</th>\n",
       "      <th>Churn</th>\n",
       "    </tr>\n",
       "  </thead>\n",
       "  <tbody>\n",
       "    <tr>\n",
       "      <th>0</th>\n",
       "      <td>Female</td>\n",
       "      <td>0</td>\n",
       "      <td>Yes</td>\n",
       "      <td>No</td>\n",
       "      <td>1</td>\n",
       "      <td>No</td>\n",
       "      <td>No phone service</td>\n",
       "      <td>DSL</td>\n",
       "      <td>No</td>\n",
       "      <td>Yes</td>\n",
       "      <td>No</td>\n",
       "      <td>No</td>\n",
       "      <td>No</td>\n",
       "      <td>No</td>\n",
       "      <td>Month-to-month</td>\n",
       "      <td>Yes</td>\n",
       "      <td>Electronic check</td>\n",
       "      <td>29.85</td>\n",
       "      <td>29.85</td>\n",
       "      <td>No</td>\n",
       "    </tr>\n",
       "  </tbody>\n",
       "</table>\n",
       "</div>"
      ],
      "text/plain": [
       "   gender  SeniorCitizen Partner Dependents  tenure PhoneService  \\\n",
       "0  Female              0     Yes         No       1           No   \n",
       "\n",
       "      MultipleLines InternetService OnlineSecurity OnlineBackup  \\\n",
       "0  No phone service             DSL             No          Yes   \n",
       "\n",
       "  DeviceProtection TechSupport StreamingTV StreamingMovies        Contract  \\\n",
       "0               No          No          No              No  Month-to-month   \n",
       "\n",
       "  PaperlessBilling     PaymentMethod  MonthlyCharges TotalCharges Churn  \n",
       "0              Yes  Electronic check           29.85        29.85    No  "
      ]
     },
     "execution_count": 196,
     "metadata": {},
     "output_type": "execute_result"
    }
   ],
   "source": [
    "# deleting customerID as it is useless in our case.\n",
    "del df['customerID']\n",
    "df.head(1)\n"
   ]
  },
  {
   "cell_type": "code",
   "execution_count": 197,
   "metadata": {
    "Collapsed": "false",
    "collapsed": false,
    "jupyter": {
     "outputs_hidden": false
    },
    "pycharm": {
     "name": "#%%\n"
    }
   },
   "outputs": [
    {
     "name": "stdout",
     "output_type": "stream",
     "text": [
      "gender: ['Female' 'Male']\n",
      "SeniorCitizen: [0 1]\n",
      "Partner: ['Yes' 'No']\n",
      "Dependents: ['No' 'Yes']\n",
      "tenure: [ 1 34  2 45  8 22 10 28 62 13 16 58 49 25 69 52 71 21 12 30 47 72 17 27\n",
      "  5 46 11 70 63 43 15 60 18 66  9  3 31 50 64 56  7 42 35 48 29 65 38 68\n",
      " 32 55 37 36 41  6  4 33 67 23 57 61 14 20 53 40 59 24 44 19 54 51 26  0\n",
      " 39]\n",
      "PhoneService: ['No' 'Yes']\n",
      "MultipleLines: ['No phone service' 'No' 'Yes']\n",
      "InternetService: ['DSL' 'Fiber optic' 'No']\n",
      "OnlineSecurity: ['No' 'Yes' 'No internet service']\n",
      "OnlineBackup: ['Yes' 'No' 'No internet service']\n",
      "TechSupport: ['No' 'Yes' 'No internet service']\n",
      "StreamingTV: ['No' 'Yes' 'No internet service']\n",
      "StreamingMovies: ['No' 'Yes' 'No internet service']\n",
      "Contract: ['Month-to-month' 'One year' 'Two year']\n",
      "PaperlessBilling: ['Yes' 'No']\n",
      "MonthlyCharges: [29.85 56.95 53.85 ... 63.1  44.2  78.7 ]\n",
      "TotalCharges: ['29.85' '1889.5' '108.15' ... '346.45' '306.6' '6844.5']\n",
      "PaymentMethod: ['Electronic check' 'Mailed check' 'Bank transfer (automatic)'\n",
      " 'Credit card (automatic)']\n",
      "Churn: ['No' 'Yes']\n"
     ]
    },
    {
     "data": {
      "text/html": [
       "<div>\n",
       "<style scoped>\n",
       "    .dataframe tbody tr th:only-of-type {\n",
       "        vertical-align: middle;\n",
       "    }\n",
       "\n",
       "    .dataframe tbody tr th {\n",
       "        vertical-align: top;\n",
       "    }\n",
       "\n",
       "    .dataframe thead th {\n",
       "        text-align: right;\n",
       "    }\n",
       "</style>\n",
       "<table border=\"1\" class=\"dataframe\">\n",
       "  <thead>\n",
       "    <tr style=\"text-align: right;\">\n",
       "      <th></th>\n",
       "      <th>gender</th>\n",
       "      <th>SeniorCitizen</th>\n",
       "      <th>Partner</th>\n",
       "      <th>Dependents</th>\n",
       "      <th>tenure</th>\n",
       "      <th>PhoneService</th>\n",
       "      <th>MultipleLines</th>\n",
       "      <th>InternetService</th>\n",
       "      <th>OnlineSecurity</th>\n",
       "      <th>OnlineBackup</th>\n",
       "      <th>DeviceProtection</th>\n",
       "      <th>TechSupport</th>\n",
       "      <th>StreamingTV</th>\n",
       "      <th>StreamingMovies</th>\n",
       "      <th>Contract</th>\n",
       "      <th>PaperlessBilling</th>\n",
       "      <th>PaymentMethod</th>\n",
       "      <th>MonthlyCharges</th>\n",
       "      <th>TotalCharges</th>\n",
       "      <th>Churn</th>\n",
       "    </tr>\n",
       "  </thead>\n",
       "  <tbody>\n",
       "    <tr>\n",
       "      <th>0</th>\n",
       "      <td>Female</td>\n",
       "      <td>No</td>\n",
       "      <td>Yes</td>\n",
       "      <td>No</td>\n",
       "      <td>1</td>\n",
       "      <td>No</td>\n",
       "      <td>No</td>\n",
       "      <td>DSL</td>\n",
       "      <td>No</td>\n",
       "      <td>Yes</td>\n",
       "      <td>No</td>\n",
       "      <td>No</td>\n",
       "      <td>No</td>\n",
       "      <td>No</td>\n",
       "      <td>Monthly</td>\n",
       "      <td>Yes</td>\n",
       "      <td>Check</td>\n",
       "      <td>29.85</td>\n",
       "      <td>29.85</td>\n",
       "      <td>No</td>\n",
       "    </tr>\n",
       "    <tr>\n",
       "      <th>1</th>\n",
       "      <td>Male</td>\n",
       "      <td>No</td>\n",
       "      <td>No</td>\n",
       "      <td>No</td>\n",
       "      <td>34</td>\n",
       "      <td>Yes</td>\n",
       "      <td>No</td>\n",
       "      <td>DSL</td>\n",
       "      <td>Yes</td>\n",
       "      <td>No</td>\n",
       "      <td>Yes</td>\n",
       "      <td>No</td>\n",
       "      <td>No</td>\n",
       "      <td>No</td>\n",
       "      <td>Yearly</td>\n",
       "      <td>No</td>\n",
       "      <td>Check</td>\n",
       "      <td>56.95</td>\n",
       "      <td>1889.5</td>\n",
       "      <td>No</td>\n",
       "    </tr>\n",
       "    <tr>\n",
       "      <th>2</th>\n",
       "      <td>Male</td>\n",
       "      <td>No</td>\n",
       "      <td>No</td>\n",
       "      <td>No</td>\n",
       "      <td>2</td>\n",
       "      <td>Yes</td>\n",
       "      <td>No</td>\n",
       "      <td>DSL</td>\n",
       "      <td>Yes</td>\n",
       "      <td>Yes</td>\n",
       "      <td>No</td>\n",
       "      <td>No</td>\n",
       "      <td>No</td>\n",
       "      <td>No</td>\n",
       "      <td>Monthly</td>\n",
       "      <td>Yes</td>\n",
       "      <td>Check</td>\n",
       "      <td>53.85</td>\n",
       "      <td>108.15</td>\n",
       "      <td>Yes</td>\n",
       "    </tr>\n",
       "    <tr>\n",
       "      <th>3</th>\n",
       "      <td>Male</td>\n",
       "      <td>No</td>\n",
       "      <td>No</td>\n",
       "      <td>No</td>\n",
       "      <td>45</td>\n",
       "      <td>No</td>\n",
       "      <td>No</td>\n",
       "      <td>DSL</td>\n",
       "      <td>Yes</td>\n",
       "      <td>No</td>\n",
       "      <td>Yes</td>\n",
       "      <td>Yes</td>\n",
       "      <td>No</td>\n",
       "      <td>No</td>\n",
       "      <td>Yearly</td>\n",
       "      <td>No</td>\n",
       "      <td>automatic</td>\n",
       "      <td>42.30</td>\n",
       "      <td>1840.75</td>\n",
       "      <td>No</td>\n",
       "    </tr>\n",
       "    <tr>\n",
       "      <th>4</th>\n",
       "      <td>Female</td>\n",
       "      <td>No</td>\n",
       "      <td>No</td>\n",
       "      <td>No</td>\n",
       "      <td>2</td>\n",
       "      <td>Yes</td>\n",
       "      <td>No</td>\n",
       "      <td>Fiber optic</td>\n",
       "      <td>No</td>\n",
       "      <td>No</td>\n",
       "      <td>No</td>\n",
       "      <td>No</td>\n",
       "      <td>No</td>\n",
       "      <td>No</td>\n",
       "      <td>Monthly</td>\n",
       "      <td>Yes</td>\n",
       "      <td>Check</td>\n",
       "      <td>70.70</td>\n",
       "      <td>151.65</td>\n",
       "      <td>Yes</td>\n",
       "    </tr>\n",
       "  </tbody>\n",
       "</table>\n",
       "</div>"
      ],
      "text/plain": [
       "   gender SeniorCitizen Partner Dependents  tenure PhoneService MultipleLines  \\\n",
       "0  Female            No     Yes         No       1           No            No   \n",
       "1    Male            No      No         No      34          Yes            No   \n",
       "2    Male            No      No         No       2          Yes            No   \n",
       "3    Male            No      No         No      45           No            No   \n",
       "4  Female            No      No         No       2          Yes            No   \n",
       "\n",
       "  InternetService OnlineSecurity OnlineBackup DeviceProtection TechSupport  \\\n",
       "0             DSL             No          Yes               No          No   \n",
       "1             DSL            Yes           No              Yes          No   \n",
       "2             DSL            Yes          Yes               No          No   \n",
       "3             DSL            Yes           No              Yes         Yes   \n",
       "4     Fiber optic             No           No               No          No   \n",
       "\n",
       "  StreamingTV StreamingMovies Contract PaperlessBilling PaymentMethod  \\\n",
       "0          No              No  Monthly              Yes         Check   \n",
       "1          No              No   Yearly               No         Check   \n",
       "2          No              No  Monthly              Yes         Check   \n",
       "3          No              No   Yearly               No     automatic   \n",
       "4          No              No  Monthly              Yes         Check   \n",
       "\n",
       "   MonthlyCharges TotalCharges Churn  \n",
       "0           29.85        29.85    No  \n",
       "1           56.95       1889.5    No  \n",
       "2           53.85       108.15   Yes  \n",
       "3           42.30      1840.75    No  \n",
       "4           70.70       151.65   Yes  "
      ]
     },
     "execution_count": 197,
     "metadata": {},
     "output_type": "execute_result"
    }
   ],
   "source": [
    "print('gender:',df.gender.unique())\n",
    "print('SeniorCitizen:',df.SeniorCitizen.unique())\n",
    "print('Partner:',df.Partner.unique())\n",
    "print('Dependents:',df.Dependents.unique())\n",
    "print('tenure:',df.tenure.unique())\n",
    "print('PhoneService:',df.PhoneService.unique())\n",
    "print('MultipleLines:',df.MultipleLines.unique())\n",
    "print('InternetService:',df.InternetService.unique())\n",
    "print('OnlineSecurity:',df.OnlineSecurity.unique())\n",
    "print('OnlineBackup:',df.OnlineBackup.unique())\n",
    "print('TechSupport:',df.TechSupport.unique())\n",
    "print('StreamingTV:',df.StreamingTV.unique())\n",
    "print('StreamingMovies:',df.StreamingMovies.unique())\n",
    "print('Contract:',df.Contract.unique())\n",
    "print('PaperlessBilling:',df.PaperlessBilling.unique())\n",
    "print('MonthlyCharges:',df.MonthlyCharges.unique())\n",
    "print('TotalCharges:',df.TotalCharges.unique())\n",
    "print('PaymentMethod:',df.PaymentMethod.unique())\n",
    "print('Churn:',df.Churn.unique())\n",
    "\n",
    "df.SeniorCitizen.replace([0, 1], ['No', 'Yes'], inplace=True)\n",
    "\n",
    "# in below cases we aggregate \"no internet service\" and \"No\"\n",
    "df.MultipleLines.replace([\"No\", \"Yes\", \"No phone service\"],\n",
    "                         [\"No\", \"Yes\", \"No\"], inplace= True)\n",
    "df.OnlineSecurity.replace([\"No\", \"Yes\", \"No phone service\"],\n",
    "                          [\"No\", \"Yes\", \"No\"], inplace= True)\n",
    "df.OnlineBackup.replace([\"No\", \"Yes\", \"No phone service\"],\n",
    "                        [\"No\", \"Yes\", \"No\"], inplace= True)\n",
    "df.TechSupport.replace([\"No\", \"Yes\", \"No phone service\"],\n",
    "                       [\"No\", \"Yes\", \"No\"], inplace= True)\n",
    "df.StreamingTV.replace([\"No\", \"Yes\", \"No phone service\"],\n",
    "                       [\"No\", \"Yes\", \"No\"], inplace= True)\n",
    "df.StreamingMovies.replace([\"No\", \"Yes\", \"No phone service\"],\n",
    "                           [\"No\", \"Yes\", \"No\"], inplace= True)\n",
    "\n",
    "# aggregating \"one year\" and \"two year\"\n",
    "df.Contract.replace([\"Month-to-month\", \"One year\", \"Two year\"],\n",
    "                    [\"Monthly\", \"Yearly\", \"Yearly\"], inplace= True)\n",
    "\n",
    "# aggregating \"Electronic check\" and \"Mailed check\" into one and\n",
    "# \"Bank transfer (automatic)\" and \"Credit card (automatic)\" into another\n",
    "df.PaymentMethod.replace([\"Electronic check\", \"Mailed check\",\n",
    "                  \"Bank transfer (automatic)\", \"Credit card (automatic)\"],\n",
    "                 [\"Check\", \"Check\", \"automatic\", \"automatic\"], inplace= True)\n",
    "\n",
    "df.head(5)"
   ]
  },
  {
   "cell_type": "code",
   "execution_count": 198,
   "metadata": {
    "Collapsed": "false",
    "collapsed": false,
    "jupyter": {
     "outputs_hidden": false
    },
    "pycharm": {
     "name": "#%%\n"
    }
   },
   "outputs": [
    {
     "name": "stdout",
     "output_type": "stream",
     "text": [
      "count    7043.000000\n",
      "mean       32.371149\n",
      "std        24.559481\n",
      "min         0.000000\n",
      "25%         9.000000\n",
      "50%        29.000000\n",
      "75%        55.000000\n",
      "max        72.000000\n",
      "Name: tenure, dtype: float64\n",
      "\n",
      "\n",
      " count    7043.000000\n",
      "mean       64.761692\n",
      "std        30.090047\n",
      "min        18.250000\n",
      "25%        35.500000\n",
      "50%        70.350000\n",
      "75%        89.850000\n",
      "max       118.750000\n",
      "Name: MonthlyCharges, dtype: float64\n",
      "\n",
      "\n",
      " count    7043.000000\n",
      "mean     2279.734304\n",
      "std      2266.794470\n",
      "min         0.000000\n",
      "25%       398.550000\n",
      "50%      1394.550000\n",
      "75%      3786.600000\n",
      "max      8684.800000\n",
      "Name: TotalCharges, dtype: float64\n"
     ]
    },
    {
     "data": {
      "text/html": [
       "<div>\n",
       "<style scoped>\n",
       "    .dataframe tbody tr th:only-of-type {\n",
       "        vertical-align: middle;\n",
       "    }\n",
       "\n",
       "    .dataframe tbody tr th {\n",
       "        vertical-align: top;\n",
       "    }\n",
       "\n",
       "    .dataframe thead th {\n",
       "        text-align: right;\n",
       "    }\n",
       "</style>\n",
       "<table border=\"1\" class=\"dataframe\">\n",
       "  <thead>\n",
       "    <tr style=\"text-align: right;\">\n",
       "      <th></th>\n",
       "      <th>gender</th>\n",
       "      <th>SeniorCitizen</th>\n",
       "      <th>Partner</th>\n",
       "      <th>Dependents</th>\n",
       "      <th>tenure</th>\n",
       "      <th>PhoneService</th>\n",
       "      <th>MultipleLines</th>\n",
       "      <th>InternetService</th>\n",
       "      <th>OnlineSecurity</th>\n",
       "      <th>OnlineBackup</th>\n",
       "      <th>DeviceProtection</th>\n",
       "      <th>TechSupport</th>\n",
       "      <th>StreamingTV</th>\n",
       "      <th>StreamingMovies</th>\n",
       "      <th>Contract</th>\n",
       "      <th>PaperlessBilling</th>\n",
       "      <th>PaymentMethod</th>\n",
       "      <th>MonthlyCharges</th>\n",
       "      <th>TotalCharges</th>\n",
       "      <th>Churn</th>\n",
       "    </tr>\n",
       "  </thead>\n",
       "  <tbody>\n",
       "    <tr>\n",
       "      <th>0</th>\n",
       "      <td>Female</td>\n",
       "      <td>No</td>\n",
       "      <td>Yes</td>\n",
       "      <td>No</td>\n",
       "      <td>s</td>\n",
       "      <td>No</td>\n",
       "      <td>No</td>\n",
       "      <td>DSL</td>\n",
       "      <td>No</td>\n",
       "      <td>Yes</td>\n",
       "      <td>No</td>\n",
       "      <td>No</td>\n",
       "      <td>No</td>\n",
       "      <td>No</td>\n",
       "      <td>Monthly</td>\n",
       "      <td>Yes</td>\n",
       "      <td>Check</td>\n",
       "      <td>s</td>\n",
       "      <td>s</td>\n",
       "      <td>No</td>\n",
       "    </tr>\n",
       "    <tr>\n",
       "      <th>1</th>\n",
       "      <td>Male</td>\n",
       "      <td>No</td>\n",
       "      <td>No</td>\n",
       "      <td>No</td>\n",
       "      <td>l</td>\n",
       "      <td>Yes</td>\n",
       "      <td>No</td>\n",
       "      <td>DSL</td>\n",
       "      <td>Yes</td>\n",
       "      <td>No</td>\n",
       "      <td>Yes</td>\n",
       "      <td>No</td>\n",
       "      <td>No</td>\n",
       "      <td>No</td>\n",
       "      <td>Yearly</td>\n",
       "      <td>No</td>\n",
       "      <td>Check</td>\n",
       "      <td>m</td>\n",
       "      <td>l</td>\n",
       "      <td>No</td>\n",
       "    </tr>\n",
       "    <tr>\n",
       "      <th>2</th>\n",
       "      <td>Male</td>\n",
       "      <td>No</td>\n",
       "      <td>No</td>\n",
       "      <td>No</td>\n",
       "      <td>s</td>\n",
       "      <td>Yes</td>\n",
       "      <td>No</td>\n",
       "      <td>DSL</td>\n",
       "      <td>Yes</td>\n",
       "      <td>Yes</td>\n",
       "      <td>No</td>\n",
       "      <td>No</td>\n",
       "      <td>No</td>\n",
       "      <td>No</td>\n",
       "      <td>Monthly</td>\n",
       "      <td>Yes</td>\n",
       "      <td>Check</td>\n",
       "      <td>m</td>\n",
       "      <td>s</td>\n",
       "      <td>Yes</td>\n",
       "    </tr>\n",
       "    <tr>\n",
       "      <th>3</th>\n",
       "      <td>Male</td>\n",
       "      <td>No</td>\n",
       "      <td>No</td>\n",
       "      <td>No</td>\n",
       "      <td>l</td>\n",
       "      <td>No</td>\n",
       "      <td>No</td>\n",
       "      <td>DSL</td>\n",
       "      <td>Yes</td>\n",
       "      <td>No</td>\n",
       "      <td>Yes</td>\n",
       "      <td>Yes</td>\n",
       "      <td>No</td>\n",
       "      <td>No</td>\n",
       "      <td>Yearly</td>\n",
       "      <td>No</td>\n",
       "      <td>automatic</td>\n",
       "      <td>m</td>\n",
       "      <td>l</td>\n",
       "      <td>No</td>\n",
       "    </tr>\n",
       "    <tr>\n",
       "      <th>4</th>\n",
       "      <td>Female</td>\n",
       "      <td>No</td>\n",
       "      <td>No</td>\n",
       "      <td>No</td>\n",
       "      <td>s</td>\n",
       "      <td>Yes</td>\n",
       "      <td>No</td>\n",
       "      <td>Fiber optic</td>\n",
       "      <td>No</td>\n",
       "      <td>No</td>\n",
       "      <td>No</td>\n",
       "      <td>No</td>\n",
       "      <td>No</td>\n",
       "      <td>No</td>\n",
       "      <td>Monthly</td>\n",
       "      <td>Yes</td>\n",
       "      <td>Check</td>\n",
       "      <td>l</td>\n",
       "      <td>s</td>\n",
       "      <td>Yes</td>\n",
       "    </tr>\n",
       "  </tbody>\n",
       "</table>\n",
       "</div>"
      ],
      "text/plain": [
       "   gender SeniorCitizen Partner Dependents tenure PhoneService MultipleLines  \\\n",
       "0  Female            No     Yes         No      s           No            No   \n",
       "1    Male            No      No         No      l          Yes            No   \n",
       "2    Male            No      No         No      s          Yes            No   \n",
       "3    Male            No      No         No      l           No            No   \n",
       "4  Female            No      No         No      s          Yes            No   \n",
       "\n",
       "  InternetService OnlineSecurity OnlineBackup DeviceProtection TechSupport  \\\n",
       "0             DSL             No          Yes               No          No   \n",
       "1             DSL            Yes           No              Yes          No   \n",
       "2             DSL            Yes          Yes               No          No   \n",
       "3             DSL            Yes           No              Yes         Yes   \n",
       "4     Fiber optic             No           No               No          No   \n",
       "\n",
       "  StreamingTV StreamingMovies Contract PaperlessBilling PaymentMethod  \\\n",
       "0          No              No  Monthly              Yes         Check   \n",
       "1          No              No   Yearly               No         Check   \n",
       "2          No              No  Monthly              Yes         Check   \n",
       "3          No              No   Yearly               No     automatic   \n",
       "4          No              No  Monthly              Yes         Check   \n",
       "\n",
       "  MonthlyCharges TotalCharges Churn  \n",
       "0              s            s    No  \n",
       "1              m            l    No  \n",
       "2              m            s   Yes  \n",
       "3              m            l    No  \n",
       "4              l            s   Yes  "
      ]
     },
     "execution_count": 198,
     "metadata": {},
     "output_type": "execute_result"
    }
   ],
   "source": [
    "# convert continuous values (tenure, MonthlyCharges, TotalCharges)\n",
    "print(df.tenure.describe())\n",
    "df.loc[(df.tenure >= 0) & (df.tenure<9), 'tenure'] = 0\n",
    "df.loc[(df.tenure >= 9) & (df.tenure<29), 'tenure'] = 1\n",
    "df.loc[(df.tenure >= 29) & (df.tenure<55), 'tenure'] = 2\n",
    "df.loc[(df.tenure >= 55), 'tenure'] = 3\n",
    "df.loc[(df.tenure == 0), 'tenure'] = 's'\n",
    "df.loc[(df.tenure == 1), 'tenure'] = 'm'\n",
    "df.loc[(df.tenure == 2), 'tenure'] = 'l'\n",
    "df.loc[(df.tenure == 3), 'tenure'] = 'xl'\n",
    "\n",
    "print('\\n\\n',df.MonthlyCharges.describe())\n",
    "df.loc[(df.MonthlyCharges >= 0) & (df.MonthlyCharges<35), 'MonthlyCharges'] = 0\n",
    "df.loc[(df.MonthlyCharges >= 35) & (df.MonthlyCharges<70), 'MonthlyCharges'] = 1\n",
    "df.loc[(df.MonthlyCharges >= 70) & (df.MonthlyCharges<89), 'MonthlyCharges'] = 2\n",
    "df.loc[(df.MonthlyCharges >= 89), 'MonthlyCharges'] = 3\n",
    "df.MonthlyCharges = df.MonthlyCharges.astype(np.uint8)\n",
    "df.loc[(df.MonthlyCharges == 0), 'MonthlyCharges'] = 's'\n",
    "df.loc[(df.MonthlyCharges == 1), 'MonthlyCharges'] = 'm'\n",
    "df.loc[(df.MonthlyCharges == 2), 'MonthlyCharges'] = 'l'\n",
    "df.loc[(df.MonthlyCharges == 3), 'MonthlyCharges'] = 'xl'\n",
    "\n",
    "# zerp non-values from dataframe from TotalCharges\n",
    "nan_values = pd.to_numeric(df['TotalCharges'],\n",
    "                           errors='coerce').isnull().values.nonzero()[0]\n",
    "df.loc[nan_values,'TotalCharges'] = 0\n",
    "df.TotalCharges = pd.to_numeric(df['TotalCharges'], errors='coerce')\n",
    "\n",
    "print('\\n\\n',df.TotalCharges.describe())\n",
    "df.loc[(df.TotalCharges >= 0) & (df.TotalCharges<398), 'TotalCharges'] = 0\n",
    "df.loc[(df.TotalCharges >= 398) & (df.TotalCharges<1394), 'TotalCharges'] = 1\n",
    "df.loc[(df.TotalCharges >= 1394) & (df.TotalCharges<3786), 'TotalCharges'] = 2\n",
    "df.loc[(df.TotalCharges >= 3786), 'TotalCharges'] = 3\n",
    "df.TotalCharges = df.TotalCharges.astype(np.int8)\n",
    "\n",
    "df.loc[(df.TotalCharges == 0), 'TotalCharges'] = 's'\n",
    "df.loc[(df.TotalCharges == 1), 'TotalCharges'] = 'm'\n",
    "df.loc[(df.TotalCharges == 2), 'TotalCharges'] = 'l'\n",
    "df.loc[(df.TotalCharges == 3), 'TotalCharges'] = 'xl'\n",
    "\n",
    "df.head(5)\n"
   ]
  },
  {
   "cell_type": "code",
   "execution_count": 218,
   "metadata": {
    "Collapsed": "false",
    "collapsed": false,
    "jupyter": {
     "outputs_hidden": false
    },
    "pycharm": {
     "name": "#%%\n"
    }
   },
   "outputs": [
    {
     "data": {
      "image/png": "[encoded data removed]",
      "text/plain": [
       "<Figure size 720x360 with 1 Axes>"
      ]
     },
     "metadata": {
      "needs_background": "light"
     },
     "output_type": "display_data"
    },
    {
     "data": {
      "image/png": "[encoded data removed]",
      "text/plain": [
       "<Figure size 720x360 with 1 Axes>"
      ]
     },
     "metadata": {
      "needs_background": "light"
     },
     "output_type": "display_data"
    },
    {
     "data": {
      "image/png": "[encoded data removed]",
      "text/plain": [
       "<Figure size 720x360 with 1 Axes>"
      ]
     },
     "metadata": {
      "needs_background": "light"
     },
     "output_type": "display_data"
    },
    {
     "data": {
      "image/png": "[encoded data removed]",
      "text/plain": [
       "<Figure size 720x360 with 1 Axes>"
      ]
     },
     "metadata": {
      "needs_background": "light"
     },
     "output_type": "display_data"
    },
    {
     "data": {
      "image/png": "[encoded data removed]",
      "text/plain": [
       "<Figure size 720x360 with 1 Axes>"
      ]
     },
     "metadata": {
      "needs_background": "light"
     },
     "output_type": "display_data"
    },
    {
     "data": {
      "image/png": "[encoded data removed]",
      "text/plain": [
       "<Figure size 720x360 with 1 Axes>"
      ]
     },
     "metadata": {
      "needs_background": "light"
     },
     "output_type": "display_data"
    },
    {
     "data": {
      "image/png": "[encoded data removed]",
      "text/plain": [
       "<Figure size 720x360 with 1 Axes>"
      ]
     },
     "metadata": {
      "needs_background": "light"
     },
     "output_type": "display_data"
    },
    {
     "data": {
      "image/png": "[encoded data removed]",
      "text/plain": [
       "<Figure size 720x360 with 1 Axes>"
      ]
     },
     "metadata": {
      "needs_background": "light"
     },
     "output_type": "display_data"
    },
    {
     "data": {
      "image/png": "[encoded data removed]",
      "text/plain": [
       "<Figure size 720x360 with 1 Axes>"
      ]
     },
     "metadata": {
      "needs_background": "light"
     },
     "output_type": "display_data"
    },
    {
     "data": {
      "image/png": "[encoded data removed]",
      "text/plain": [
       "<Figure size 720x360 with 1 Axes>"
      ]
     },
     "metadata": {
      "needs_background": "light"
     },
     "output_type": "display_data"
    },
    {
     "data": {
      "image/png": "[encoded data removed]",
      "text/plain": [
       "<Figure size 720x360 with 1 Axes>"
      ]
     },
     "metadata": {
      "needs_background": "light"
     },
     "output_type": "display_data"
    },
    {
     "data": {
      "image/png": "[encoded data removed]",
      "text/plain": [
       "<Figure size 720x360 with 1 Axes>"
      ]
     },
     "metadata": {
      "needs_background": "light"
     },
     "output_type": "display_data"
    },
    {
     "data": {
      "image/png": "[encoded data removed]",
      "text/plain": [
       "<Figure size 720x360 with 1 Axes>"
      ]
     },
     "metadata": {
      "needs_background": "light"
     },
     "output_type": "display_data"
    },
    {
     "data": {
      "image/png": "[encoded data removed]",
      "text/plain": [
       "<Figure size 720x360 with 1 Axes>"
      ]
     },
     "metadata": {
      "needs_background": "light"
     },
     "output_type": "display_data"
    },
    {
     "data": {
      "image/png": "[encoded data removed]",
      "text/plain": [
       "<Figure size 720x360 with 1 Axes>"
      ]
     },
     "metadata": {
      "needs_background": "light"
     },
     "output_type": "display_data"
    },
    {
     "data": {
      "image/png": "[encoded data removed]",
      "text/plain": [
       "<Figure size 720x360 with 1 Axes>"
      ]
     },
     "metadata": {
      "needs_background": "light"
     },
     "output_type": "display_data"
    },
    {
     "data": {
      "image/png": "[encoded data removed]",
      "text/plain": [
       "<Figure size 720x360 with 1 Axes>"
      ]
     },
     "metadata": {
      "needs_background": "light"
     },
     "output_type": "display_data"
    },
    {
     "data": {
      "image/png": "[encoded data removed]",
      "text/plain": [
       "<Figure size 720x360 with 1 Axes>"
      ]
     },
     "metadata": {
      "needs_background": "light"
     },
     "output_type": "display_data"
    },
    {
     "data": {
      "image/png": "[encoded data removed]",
      "text/plain": [
       "<Figure size 720x360 with 1 Axes>"
      ]
     },
     "metadata": {
      "needs_background": "light"
     },
     "output_type": "display_data"
    },
    {
     "data": {
      "image/png": "[encoded data removed]",
      "text/plain": [
       "<Figure size 720x360 with 1 Axes>"
      ]
     },
     "metadata": {
      "needs_background": "light"
     },
     "output_type": "display_data"
    }
   ],
   "source": [
    "for i in range(len(df.columns)):\n",
    "    df[df.columns[i]].hist(figsize=(10, 5), grid=False)\n",
    "    plt.title(df.columns[i])\n",
    "    plt.show()\n",
    "\n"
   ]
  },
  {
   "cell_type": "code",
   "execution_count": 219,
   "metadata": {
    "Collapsed": "false",
    "collapsed": false,
    "jupyter": {
     "outputs_hidden": false
    },
    "pycharm": {
     "name": "#%%\n"
    }
   },
   "outputs": [
    {
     "data": {
      "text/plain": [
       "gender              0\n",
       "SeniorCitizen       0\n",
       "Partner             0\n",
       "Dependents          0\n",
       "tenure              0\n",
       "PhoneService        0\n",
       "MultipleLines       0\n",
       "InternetService     0\n",
       "OnlineSecurity      0\n",
       "OnlineBackup        0\n",
       "DeviceProtection    0\n",
       "TechSupport         0\n",
       "StreamingTV         0\n",
       "StreamingMovies     0\n",
       "Contract            0\n",
       "PaperlessBilling    0\n",
       "PaymentMethod       0\n",
       "MonthlyCharges      0\n",
       "TotalCharges        0\n",
       "Churn               0\n",
       "dtype: int64"
      ]
     },
     "execution_count": 219,
     "metadata": {},
     "output_type": "execute_result"
    }
   ],
   "source": [
    "# drop missing values\n",
    "df.isna().sum()\n"
   ]
  },
  {
   "cell_type": "code",
   "execution_count": 187,
   "metadata": {
    "Collapsed": "false",
    "collapsed": false,
    "jupyter": {
     "outputs_hidden": false
    },
    "pycharm": {
     "name": "#%%\n"
    }
   },
   "outputs": [
    {
     "name": "stdout",
     "output_type": "stream",
     "text": [
      "(7043, 20)\n",
      "(7043, 53)\n"
     ]
    },
    {
     "data": {
      "text/html": [
       "<div>\n",
       "<style scoped>\n",
       "    .dataframe tbody tr th:only-of-type {\n",
       "        vertical-align: middle;\n",
       "    }\n",
       "\n",
       "    .dataframe tbody tr th {\n",
       "        vertical-align: top;\n",
       "    }\n",
       "\n",
       "    .dataframe thead th {\n",
       "        text-align: right;\n",
       "    }\n",
       "</style>\n",
       "<table border=\"1\" class=\"dataframe\">\n",
       "  <thead>\n",
       "    <tr style=\"text-align: right;\">\n",
       "      <th></th>\n",
       "      <th>gender_Female</th>\n",
       "      <th>gender_Male</th>\n",
       "      <th>SeniorCitizen_No</th>\n",
       "      <th>SeniorCitizen_Yes</th>\n",
       "      <th>Partner_No</th>\n",
       "      <th>Partner_Yes</th>\n",
       "      <th>Dependents_No</th>\n",
       "      <th>Dependents_Yes</th>\n",
       "      <th>tenure_l</th>\n",
       "      <th>tenure_m</th>\n",
       "      <th>...</th>\n",
       "      <th>MonthlyCharges_l</th>\n",
       "      <th>MonthlyCharges_m</th>\n",
       "      <th>MonthlyCharges_s</th>\n",
       "      <th>MonthlyCharges_xl</th>\n",
       "      <th>TotalCharges_l</th>\n",
       "      <th>TotalCharges_m</th>\n",
       "      <th>TotalCharges_s</th>\n",
       "      <th>TotalCharges_xl</th>\n",
       "      <th>Churn_No</th>\n",
       "      <th>Churn_Yes</th>\n",
       "    </tr>\n",
       "  </thead>\n",
       "  <tbody>\n",
       "    <tr>\n",
       "      <th>0</th>\n",
       "      <td>1</td>\n",
       "      <td>0</td>\n",
       "      <td>1</td>\n",
       "      <td>0</td>\n",
       "      <td>0</td>\n",
       "      <td>1</td>\n",
       "      <td>1</td>\n",
       "      <td>0</td>\n",
       "      <td>0</td>\n",
       "      <td>0</td>\n",
       "      <td>...</td>\n",
       "      <td>0</td>\n",
       "      <td>0</td>\n",
       "      <td>1</td>\n",
       "      <td>0</td>\n",
       "      <td>0</td>\n",
       "      <td>0</td>\n",
       "      <td>1</td>\n",
       "      <td>0</td>\n",
       "      <td>1</td>\n",
       "      <td>0</td>\n",
       "    </tr>\n",
       "    <tr>\n",
       "      <th>1</th>\n",
       "      <td>0</td>\n",
       "      <td>1</td>\n",
       "      <td>1</td>\n",
       "      <td>0</td>\n",
       "      <td>1</td>\n",
       "      <td>0</td>\n",
       "      <td>1</td>\n",
       "      <td>0</td>\n",
       "      <td>1</td>\n",
       "      <td>0</td>\n",
       "      <td>...</td>\n",
       "      <td>0</td>\n",
       "      <td>1</td>\n",
       "      <td>0</td>\n",
       "      <td>0</td>\n",
       "      <td>1</td>\n",
       "      <td>0</td>\n",
       "      <td>0</td>\n",
       "      <td>0</td>\n",
       "      <td>1</td>\n",
       "      <td>0</td>\n",
       "    </tr>\n",
       "    <tr>\n",
       "      <th>2</th>\n",
       "      <td>0</td>\n",
       "      <td>1</td>\n",
       "      <td>1</td>\n",
       "      <td>0</td>\n",
       "      <td>1</td>\n",
       "      <td>0</td>\n",
       "      <td>1</td>\n",
       "      <td>0</td>\n",
       "      <td>0</td>\n",
       "      <td>0</td>\n",
       "      <td>...</td>\n",
       "      <td>0</td>\n",
       "      <td>1</td>\n",
       "      <td>0</td>\n",
       "      <td>0</td>\n",
       "      <td>0</td>\n",
       "      <td>0</td>\n",
       "      <td>1</td>\n",
       "      <td>0</td>\n",
       "      <td>0</td>\n",
       "      <td>1</td>\n",
       "    </tr>\n",
       "    <tr>\n",
       "      <th>3</th>\n",
       "      <td>0</td>\n",
       "      <td>1</td>\n",
       "      <td>1</td>\n",
       "      <td>0</td>\n",
       "      <td>1</td>\n",
       "      <td>0</td>\n",
       "      <td>1</td>\n",
       "      <td>0</td>\n",
       "      <td>1</td>\n",
       "      <td>0</td>\n",
       "      <td>...</td>\n",
       "      <td>0</td>\n",
       "      <td>1</td>\n",
       "      <td>0</td>\n",
       "      <td>0</td>\n",
       "      <td>1</td>\n",
       "      <td>0</td>\n",
       "      <td>0</td>\n",
       "      <td>0</td>\n",
       "      <td>1</td>\n",
       "      <td>0</td>\n",
       "    </tr>\n",
       "    <tr>\n",
       "      <th>4</th>\n",
       "      <td>1</td>\n",
       "      <td>0</td>\n",
       "      <td>1</td>\n",
       "      <td>0</td>\n",
       "      <td>1</td>\n",
       "      <td>0</td>\n",
       "      <td>1</td>\n",
       "      <td>0</td>\n",
       "      <td>0</td>\n",
       "      <td>0</td>\n",
       "      <td>...</td>\n",
       "      <td>1</td>\n",
       "      <td>0</td>\n",
       "      <td>0</td>\n",
       "      <td>0</td>\n",
       "      <td>0</td>\n",
       "      <td>0</td>\n",
       "      <td>1</td>\n",
       "      <td>0</td>\n",
       "      <td>0</td>\n",
       "      <td>1</td>\n",
       "    </tr>\n",
       "  </tbody>\n",
       "</table>\n",
       "<p>5 rows × 53 columns</p>\n",
       "</div>"
      ],
      "text/plain": [
       "   gender_Female  gender_Male  SeniorCitizen_No  SeniorCitizen_Yes  \\\n",
       "0              1            0                 1                  0   \n",
       "1              0            1                 1                  0   \n",
       "2              0            1                 1                  0   \n",
       "3              0            1                 1                  0   \n",
       "4              1            0                 1                  0   \n",
       "\n",
       "   Partner_No  Partner_Yes  Dependents_No  Dependents_Yes  tenure_l  tenure_m  \\\n",
       "0           0            1              1               0         0         0   \n",
       "1           1            0              1               0         1         0   \n",
       "2           1            0              1               0         0         0   \n",
       "3           1            0              1               0         1         0   \n",
       "4           1            0              1               0         0         0   \n",
       "\n",
       "   ...  MonthlyCharges_l  MonthlyCharges_m  MonthlyCharges_s  \\\n",
       "0  ...                 0                 0                 1   \n",
       "1  ...                 0                 1                 0   \n",
       "2  ...                 0                 1                 0   \n",
       "3  ...                 0                 1                 0   \n",
       "4  ...                 1                 0                 0   \n",
       "\n",
       "   MonthlyCharges_xl  TotalCharges_l  TotalCharges_m  TotalCharges_s  \\\n",
       "0                  0               0               0               1   \n",
       "1                  0               1               0               0   \n",
       "2                  0               0               0               1   \n",
       "3                  0               1               0               0   \n",
       "4                  0               0               0               1   \n",
       "\n",
       "   TotalCharges_xl  Churn_No  Churn_Yes  \n",
       "0                0         1          0  \n",
       "1                0         1          0  \n",
       "2                0         0          1  \n",
       "3                0         1          0  \n",
       "4                0         0          1  \n",
       "\n",
       "[5 rows x 53 columns]"
      ]
     },
     "execution_count": 187,
     "metadata": {},
     "output_type": "execute_result"
    }
   ],
   "source": [
    "# convert entire dataframe into onehot encoded\n",
    "print(df.shape)\n",
    "df = pd.get_dummies(df)\n",
    "print(df.shape)\n",
    "df.head(5)"
   ]
  },
  {
   "cell_type": "markdown",
   "metadata": {
    "Collapsed": "false",
    "pycharm": {
     "name": "#%% md\n"
    }
   },
   "source": [
    "6.B Apriori Implementation"
   ]
  },
  {
   "cell_type": "code",
   "execution_count": null,
   "metadata": {
    "Collapsed": "false",
    "collapsed": false,
    "jupyter": {
     "outputs_hidden": false
    },
    "pycharm": {
     "name": "#%%\n"
    }
   },
   "outputs": [],
   "source": []
  },
  {
   "cell_type": "markdown",
   "metadata": {
    "Collapsed": "false",
    "pycharm": {
     "name": "#%% md\n"
    }
   },
   "source": [
    "6.C Find proper parameters"
   ]
  },
  {
   "cell_type": "code",
   "execution_count": null,
   "metadata": {
    "Collapsed": "false",
    "collapsed": false,
    "jupyter": {
     "outputs_hidden": false
    },
    "pycharm": {
     "name": "#%%\n"
    }
   },
   "outputs": [],
   "source": []
  },
  {
   "cell_type": "markdown",
   "metadata": {
    "Collapsed": "false",
    "pycharm": {
     "name": "#%% md\n"
    }
   },
   "source": [
    "6.D Report finest extracted rules"
   ]
  },
  {
   "cell_type": "code",
   "execution_count": null,
   "metadata": {
    "Collapsed": "false",
    "collapsed": false,
    "jupyter": {
     "outputs_hidden": false
    },
    "pycharm": {
     "name": "#%%\n"
    }
   },
   "outputs": [],
   "source": []
  },
  {
   "cell_type": "markdown",
   "metadata": {
    "Collapsed": "false",
    "pycharm": {
     "name": "#%% md\n"
    }
   },
   "source": [
    "## 7 Train *KNN* and *DecisionTree* on [Fashion-MNIST](https://github.com/zalandoresearch/fashion-mnist)\n",
    "1. DecisionTree\n",
    "    1. Preprocessing\n",
    "    2. Split into Train, test and Validation\n",
    "    3. Train models    \n",
    "    4. Report accuracy, recall and F-score metrics\n",
    "2. KNN\n",
    "    1. Preprocessing\n",
    "    2. Feature Extraction\n",
    "    3. Split into Train, test and Validation\n",
    "    4. Train models    \n",
    "    5. Report accuracy, recall and F-score metrics"
   ]
  },
  {
   "cell_type": "markdown",
   "metadata": {
    "Collapsed": "false"
   },
   "source": [
    "### 7.A DecisionTree\n",
    "1. Preprocessing\n",
    "2. Split into Train, test and Validation\n",
    "3. Train models    \n",
    "4. Report accuracy, recall and F-score metrics"
   ]
  },
  {
   "cell_type": "markdown",
   "metadata": {
    "Collapsed": "false",
    "pycharm": {
     "name": "#%% md\n"
    }
   },
   "source": [
    "#### 7.A.a Preprocessing\n",
    "In this step we apply normialization to have images with mean zero and variance of 1. This enables algorithms with\n",
    "distance based metrics to apply same importance to every pixel of image."
   ]
  },
  {
   "cell_type": "code",
   "execution_count": 66,
   "metadata": {
    "Collapsed": "false",
    "colab": {
     "base_uri": "https://localhost:8080/",
     "height": 66
    },
    "colab_type": "code",
    "id": "1DBL6E-b7wDS",
    "outputId": "9e6b3baa-ef1f-49d7-c0b0-251475130698"
   },
   "outputs": [
    {
     "name": "stdout",
     "output_type": "stream",
     "text": [
      "number of train samples= 60000\n",
      "number of test samples= 10000\n",
      "shape of samples= (784,)\n"
     ]
    }
   ],
   "source": [
    "from utils import mnist_reader\n",
    "x_train, y_train = mnist_reader.load_mnist('data/fashion', kind='train')\n",
    "x_test, y_test = mnist_reader.load_mnist('data/fashion', kind='t10k')\n",
    "\n",
    "print('number of train samples=', len(x_train))\n",
    "print('number of test samples=', len(x_test))\n",
    "print('shape of samples=', x_train[0].shape)"
   ]
  },
  {
   "cell_type": "code",
   "execution_count": null,
   "metadata": {
    "Collapsed": "false",
    "colab": {},
    "colab_type": "code",
    "id": "o8Rs5qk_8Ecf"
   },
   "outputs": [],
   "source": [
    "# standardization\n",
    "x_train = x_train/255\n",
    "x_test = x_test/255\n",
    "\n",
    "# normalization\n",
    "x_train = (x_train - x_train.mean()) / x_train.var()\n",
    "x_test = (x_test - x_test.mean()) / x_test.var()"
   ]
  },
  {
   "cell_type": "markdown",
   "metadata": {
    "Collapsed": "false"
   },
   "source": [
    "#### 7.A.b Split into train, test and validation"
   ]
  },
  {
   "cell_type": "code",
   "execution_count": null,
   "metadata": {
    "Collapsed": "false",
    "colab": {},
    "colab_type": "code",
    "id": "fGkjSAUG9WhW"
   },
   "outputs": [],
   "source": [
    "# split into train validation for hyper parameter tuning\n",
    "import random\n",
    "\n",
    "val_size = 10000\n",
    "val_index = random.sample(range(0, len(x_train)), val_size)\n",
    "split_index = np.array([0 if i in val_index else -1 for i in range(len(x_train))])"
   ]
  },
  {
   "cell_type": "markdown",
   "metadata": {
    "Collapsed": "false"
   },
   "source": [
    "#### 7.A.c Train models"
   ]
  },
  {
   "cell_type": "code",
   "execution_count": 69,
   "metadata": {
    "Collapsed": "false",
    "colab": {
     "base_uri": "https://localhost:8080/",
     "height": 333
    },
    "colab_type": "code",
    "id": "q5bzAMSO-4bz",
    "outputId": "4c0cac6b-7a9e-46b0-ab07-727b7cd22718"
   },
   "outputs": [
    {
     "data": {
      "text/plain": [
       "GridSearchCV(cv=PredefinedSplit(test_fold=array([-1, -1, ..., -1, -1])),\n",
       "             error_score=nan,\n",
       "             estimator=DecisionTreeClassifier(ccp_alpha=0.0, class_weight=None,\n",
       "                                              criterion='gini', max_depth=None,\n",
       "                                              max_features=None,\n",
       "                                              max_leaf_nodes=None,\n",
       "                                              min_impurity_decrease=0.0,\n",
       "                                              min_impurity_split=None,\n",
       "                                              min_samples_leaf=1,\n",
       "                                              min_samples_split=2,\n",
       "                                              min_weight_fraction_leaf=0.0,\n",
       "                                              presort='deprecated',\n",
       "                                              random_state=None,\n",
       "                                              splitter='best'),\n",
       "             iid='deprecated', n_jobs=None,\n",
       "             param_grid={'criterion': ('gini', 'entropy'),\n",
       "                         'max_depth': [10, None], 'min_samples_leaf': [2, 10]},\n",
       "             pre_dispatch='2*n_jobs', refit=True, return_train_score=False,\n",
       "             scoring='accuracy', verbose=0)"
      ]
     },
     "execution_count": 69,
     "metadata": {
      "tags": []
     },
     "output_type": "execute_result"
    }
   ],
   "source": [
    "# grid search model training\n",
    "import numpy as np\n",
    "from sklearn.tree import DecisionTreeClassifier\n",
    "from sklearn.model_selection import PredefinedSplit\n",
    "from sklearn.model_selection import GridSearchCV\n",
    "\n",
    "parameters = {'criterion':('gini', 'entropy'), 'max_depth':[5, 10, None], 'min_samples_leaf':[2, 5, 10]}\n",
    "dt = DecisionTreeClassifier()\n",
    "pds = PredefinedSplit(test_fold=split_index)\n",
    "\n",
    "classifier = GridSearchCV(dt, parameters, cv=pds, scoring='accuracy')\n",
    "\n",
    "classifier.fit(x_train, y_train)"
   ]
  },
  {
   "cell_type": "code",
   "execution_count": 71,
   "metadata": {
    "Collapsed": "false",
    "colab": {
     "base_uri": "https://localhost:8080/",
     "height": 33
    },
    "colab_type": "code",
    "id": "_Jc11o3rQ9on",
    "outputId": "4db08992-0bac-47fb-bbe5-808df8e536ac"
   },
   "outputs": [
    {
     "data": {
      "text/plain": [
       "{'criterion': 'entropy', 'max_depth': 10, 'min_samples_leaf': 2}"
      ]
     },
     "execution_count": 71,
     "metadata": {
      "tags": []
     },
     "output_type": "execute_result"
    }
   ],
   "source": [
    "classifier.best_params_"
   ]
  },
  {
   "cell_type": "markdown",
   "metadata": {
    "Collapsed": "false"
   },
   "source": [
    "#### 7.A.d Report metrics"
   ]
  },
  {
   "cell_type": "code",
   "execution_count": 85,
   "metadata": {
    "Collapsed": "false",
    "colab": {
     "base_uri": "https://localhost:8080/",
     "height": 33
    },
    "colab_type": "code",
    "id": "7V4cBiQfRB_D",
    "outputId": "724b2c3f-54c2-47da-9c0b-d657e9e5c146"
   },
   "outputs": [
    {
     "name": "stdout",
     "output_type": "stream",
     "text": [
      "F1=0.8094858144584004, Recall=0.8114000000000001, Accuracy=0.8114\n"
     ]
    }
   ],
   "source": [
    "from sklearn.metrics import f1_score, recall_score, accuracy_score\n",
    "y_pred = classifier.predict(x_test)\n",
    "print('F1={}, Recall={}, Accuracy={}'.format(f1_score(y_test, y_pred, average='macro'), \n",
    "                                             recall_score(y_test, y_pred, average='macro'), \n",
    "                                             accuracy_score(y_test, y_pred)))"
   ]
  },
  {
   "cell_type": "markdown",
   "metadata": {
    "Collapsed": "false"
   },
   "source": [
    "### 7.B KNN\n",
    "1. Preprocessing\n",
    "2. Feature Extraction\n",
    "3. Split into Train, test and Validation\n",
    "4. Train models    \n",
    "5. Report accuracy, recall and F-score metrics"
   ]
  },
  {
   "cell_type": "markdown",
   "metadata": {
    "Collapsed": "false"
   },
   "source": [
    "#### 7.B.a Preprocessing"
   ]
  },
  {
   "cell_type": "code",
   "execution_count": 3,
   "metadata": {
    "Collapsed": "false",
    "colab": {
     "base_uri": "https://localhost:8080/",
     "height": 66
    },
    "colab_type": "code",
    "id": "Z05qmJAHguuc",
    "outputId": "a14471b9-89f7-4ef9-d2c8-39ef8a3f99f9"
   },
   "outputs": [
    {
     "name": "stdout",
     "output_type": "stream",
     "text": [
      "number of train samples= 60000\n",
      "number of test samples= 10000\n",
      "shape of samples= (784,)\n"
     ]
    }
   ],
   "source": [
    "from utils import mnist_reader\n",
    "x_train, y_train = mnist_reader.load_mnist('data/fashion', kind='train')\n",
    "x_test, y_test = mnist_reader.load_mnist('data/fashion', kind='t10k')\n",
    "\n",
    "print('number of train samples=', len(x_train))\n",
    "print('number of test samples=', len(x_test))\n",
    "print('shape of samples=', x_train[0].shape)"
   ]
  },
  {
   "cell_type": "markdown",
   "metadata": {
    "Collapsed": "false"
   },
   "source": [
    "#### 7.B.b Feature extraction\n",
    "\n",
    "A feature descriptor is a representation of an image or an image patch that simplifies the image by extracting useful information and throwing away extraneous information.\n",
    "\n",
    "In the HOG feature descriptor, the histograms of directions of gradients are used as features. Gradients (x and y derivatives) of an image are useful because the magnitude of gradients is large around edges and corners (regions of drastic intensity changes) and we know that edges and corners pack in a lot more information about object shape than flat regions."
   ]
  },
  {
   "cell_type": "code",
   "execution_count": null,
   "metadata": {
    "Collapsed": "false",
    "colab": {},
    "colab_type": "code",
    "id": "eAwEX9vggGEc"
   },
   "outputs": [],
   "source": [
    "import cv2\n",
    "import numpy as np\n",
    "\n",
    "def extract_hog(data, shape=(28, 28)):\n",
    "    \"\"\"\n",
    "    Creates hitogram of gradient of images\n",
    "\n",
    "    :param data: dataset of image using nd numpy array\n",
    "    :return: A nd array of features with same length but different dim\n",
    "    \"\"\"\n",
    "\n",
    "    winSize = (18,18)\n",
    "    blockSize = (18,18)\n",
    "    blockStride = (9,9)\n",
    "    cellSize = (9,9)\n",
    "    nbins = 4\n",
    "    derivAperture = 1\n",
    "    winSigma = 4.\n",
    "    histogramNormType = 0\n",
    "    L2HysThreshold = 2.0000000000000001e-01\n",
    "    gammaCorrection = 0\n",
    "    nlevels = 64\n",
    "    hog = cv2.HOGDescriptor(winSize,blockSize,blockStride,cellSize,nbins,derivAperture,winSigma,\n",
    "                            histogramNormType,L2HysThreshold,gammaCorrection,nlevels)\n",
    "    \n",
    "    feature_size = hog.compute(data[0].reshape(shape)).shape[0]\n",
    "\n",
    "    data_features = np.zeros((len(data), feature_size))\n",
    "    for idx, img in enumerate(data):\n",
    "        img = img.reshape(shape)\n",
    "        h = hog.compute(img)\n",
    "        h = h.reshape(1, -1)\n",
    "        data_features[idx,:] = h\n",
    "    return data_features\n",
    "\n",
    "# extract_hog([x_train[0]]).shape\n",
    "x_train_features = extract_hog(x_train)\n",
    "x_test_features = extract_hog(x_test)"
   ]
  },
  {
   "cell_type": "markdown",
   "metadata": {
    "Collapsed": "false"
   },
   "source": [
    "#### 7.B.c Split into train, test and validation"
   ]
  },
  {
   "cell_type": "code",
   "execution_count": null,
   "metadata": {
    "Collapsed": "false",
    "colab": {},
    "colab_type": "code",
    "id": "rCCOZtvGkfd6"
   },
   "outputs": [],
   "source": [
    "# split into train validation for hyper parameter tuning\n",
    "import random\n",
    "\n",
    "val_size = 10000\n",
    "val_index = random.sample(range(0, len(x_train_features)), val_size)\n",
    "split_index = np.array([0 if i in val_index else -1 for i in range(len(x_train_features))])"
   ]
  },
  {
   "cell_type": "markdown",
   "metadata": {
    "Collapsed": "false"
   },
   "source": [
    "#### 7.B.d Train models"
   ]
  },
  {
   "cell_type": "code",
   "execution_count": 15,
   "metadata": {
    "Collapsed": "false",
    "colab": {
     "base_uri": "https://localhost:8080/",
     "height": 216
    },
    "colab_type": "code",
    "id": "zbfd6TdSlO3A",
    "outputId": "0d396fdc-ee44-4b80-dbff-7f881a760679"
   },
   "outputs": [
    {
     "data": {
      "text/plain": [
       "GridSearchCV(cv=PredefinedSplit(test_fold=array([-1, -1, ..., -1, -1])),\n",
       "             error_score=nan,\n",
       "             estimator=KNeighborsClassifier(algorithm='auto', leaf_size=30,\n",
       "                                            metric='minkowski',\n",
       "                                            metric_params=None, n_jobs=None,\n",
       "                                            n_neighbors=5, p=2,\n",
       "                                            weights='uniform'),\n",
       "             iid='deprecated', n_jobs=None,\n",
       "             param_grid={'leaf_size': [10, 20], 'n_neighbors': [10, 20],\n",
       "                         'p': [1, 2]},\n",
       "             pre_dispatch='2*n_jobs', refit=True, return_train_score=False,\n",
       "             scoring='accuracy', verbose=0)"
      ]
     },
     "execution_count": 15,
     "metadata": {
      "tags": []
     },
     "output_type": "execute_result"
    }
   ],
   "source": [
    "# grid search model training\n",
    "import numpy as np\n",
    "from sklearn.neighbors import KNeighborsClassifier\n",
    "from sklearn.model_selection import PredefinedSplit\n",
    "from sklearn.model_selection import GridSearchCV\n",
    "\n",
    "# parameters = {'n_neighbors':[5, 10, 20, 30, 50], 'leaf_size':[10, 20, 30, 40, 50], 'p':[1, 2, 3, 4]}\n",
    "parameters = {'n_neighbors':[10, 20], 'leaf_size':[10, 20], 'p':[1, 2]}\n",
    "knn = KNeighborsClassifier()\n",
    "pds = PredefinedSplit(test_fold=split_index)\n",
    "\n",
    "classifier = GridSearchCV(knn, parameters, cv=pds, scoring='accuracy')\n",
    "\n",
    "classifier.fit(x_train_features, y_train)"
   ]
  },
  {
   "cell_type": "markdown",
   "metadata": {
    "Collapsed": "false"
   },
   "source": [
    "#### 7.B.e Report metrics"
   ]
  },
  {
   "cell_type": "code",
   "execution_count": 17,
   "metadata": {
    "Collapsed": "false",
    "colab": {
     "base_uri": "https://localhost:8080/",
     "height": 33
    },
    "colab_type": "code",
    "id": "_BNgnebpmP1C",
    "outputId": "b1ff47bd-895d-4fb0-8260-82af85f19900"
   },
   "outputs": [
    {
     "name": "stdout",
     "output_type": "stream",
     "text": [
      "F1=0.8279013513251632, Recall=0.8273999999999999, Accuracy=0.8274\n"
     ]
    }
   ],
   "source": [
    "from sklearn.metrics import f1_score, recall_score, accuracy_score\n",
    "y_pred = classifier.predict(x_test_features)\n",
    "print('F1={}, Recall={}, Accuracy={}'.format(f1_score(y_test, y_pred, average='macro'), \n",
    "                                             recall_score(y_test, y_pred, average='macro'), \n",
    "                                             accuracy_score(y_test, y_pred)))"
   ]
  }
 ],
 "metadata": {
  "kernelspec": {
   "display_name": "Python 3",
   "language": "python",
   "name": "python3"
  },
  "language_info": {
   "codemirror_mode": {
    "name": "ipython",
    "version": 3
   },
   "file_extension": ".py",
   "mimetype": "text/x-python",
   "name": "python",
   "nbconvert_exporter": "python",
   "pygments_lexer": "ipython3",
   "version": "3.6.6"
  }
 },
 "nbformat": 4,
 "nbformat_minor": 4
}
